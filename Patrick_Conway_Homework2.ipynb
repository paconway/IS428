{
 "cells": [
  {
   "cell_type": "code",
   "execution_count": 4,
   "id": "84ff2717",
   "metadata": {},
   "outputs": [
    {
     "name": "stdout",
     "output_type": "stream",
     "text": [
      "Requirement already satisfied: ydata-profiling in c:\\users\\patco\\anaconda3\\lib\\site-packages (4.6.1)\n",
      "Requirement already satisfied: scipy<1.12,>=1.4.1 in c:\\users\\patco\\anaconda3\\lib\\site-packages (from ydata-profiling) (1.10.1)\n",
      "Requirement already satisfied: pandas!=1.4.0,<2.1,>1.1 in c:\\users\\patco\\anaconda3\\lib\\site-packages (from ydata-profiling) (1.5.3)\n",
      "Requirement already satisfied: matplotlib<=3.7.3,>=3.2 in c:\\users\\patco\\anaconda3\\lib\\site-packages (from ydata-profiling) (3.7.1)\n",
      "Requirement already satisfied: pydantic>=2 in c:\\users\\patco\\anaconda3\\lib\\site-packages (from ydata-profiling) (2.4.2)\n",
      "Requirement already satisfied: PyYAML<6.1,>=5.0.0 in c:\\users\\patco\\anaconda3\\lib\\site-packages (from ydata-profiling) (6.0)\n",
      "Requirement already satisfied: jinja2<3.2,>=2.11.1 in c:\\users\\patco\\anaconda3\\lib\\site-packages (from ydata-profiling) (3.1.2)\n",
      "Requirement already satisfied: visions[type_image_path]==0.7.5 in c:\\users\\patco\\anaconda3\\lib\\site-packages (from ydata-profiling) (0.7.5)\n",
      "Requirement already satisfied: numpy<1.26,>=1.16.0 in c:\\users\\patco\\anaconda3\\lib\\site-packages (from ydata-profiling) (1.24.3)\n",
      "Requirement already satisfied: htmlmin==0.1.12 in c:\\users\\patco\\anaconda3\\lib\\site-packages (from ydata-profiling) (0.1.12)\n",
      "Requirement already satisfied: phik<0.13,>=0.11.1 in c:\\users\\patco\\anaconda3\\lib\\site-packages (from ydata-profiling) (0.12.3)\n",
      "Requirement already satisfied: requests<3,>=2.24.0 in c:\\users\\patco\\anaconda3\\lib\\site-packages (from ydata-profiling) (2.31.0)\n",
      "Requirement already satisfied: tqdm<5,>=4.48.2 in c:\\users\\patco\\anaconda3\\lib\\site-packages (from ydata-profiling) (4.65.0)\n",
      "Requirement already satisfied: seaborn<0.13,>=0.10.1 in c:\\users\\patco\\anaconda3\\lib\\site-packages (from ydata-profiling) (0.12.2)\n",
      "Requirement already satisfied: multimethod<2,>=1.4 in c:\\users\\patco\\anaconda3\\lib\\site-packages (from ydata-profiling) (1.10)\n",
      "Requirement already satisfied: statsmodels<1,>=0.13.2 in c:\\users\\patco\\anaconda3\\lib\\site-packages (from ydata-profiling) (0.14.0)\n",
      "Requirement already satisfied: typeguard<5,>=4.1.2 in c:\\users\\patco\\anaconda3\\lib\\site-packages (from ydata-profiling) (4.1.5)\n",
      "Requirement already satisfied: imagehash==4.3.1 in c:\\users\\patco\\anaconda3\\lib\\site-packages (from ydata-profiling) (4.3.1)\n",
      "Requirement already satisfied: wordcloud>=1.9.1 in c:\\users\\patco\\anaconda3\\lib\\site-packages (from ydata-profiling) (1.9.2)\n",
      "Requirement already satisfied: dacite>=1.8 in c:\\users\\patco\\anaconda3\\lib\\site-packages (from ydata-profiling) (1.8.1)\n",
      "Requirement already satisfied: numba<0.59.0,>=0.56.0 in c:\\users\\patco\\anaconda3\\lib\\site-packages (from ydata-profiling) (0.57.0)\n",
      "Requirement already satisfied: PyWavelets in c:\\users\\patco\\anaconda3\\lib\\site-packages (from imagehash==4.3.1->ydata-profiling) (1.4.1)\n",
      "Requirement already satisfied: pillow in c:\\users\\patco\\anaconda3\\lib\\site-packages (from imagehash==4.3.1->ydata-profiling) (9.4.0)\n",
      "Requirement already satisfied: attrs>=19.3.0 in c:\\users\\patco\\anaconda3\\lib\\site-packages (from visions[type_image_path]==0.7.5->ydata-profiling) (22.1.0)\n",
      "Requirement already satisfied: networkx>=2.4 in c:\\users\\patco\\anaconda3\\lib\\site-packages (from visions[type_image_path]==0.7.5->ydata-profiling) (3.1)\n",
      "Requirement already satisfied: tangled-up-in-unicode>=0.0.4 in c:\\users\\patco\\anaconda3\\lib\\site-packages (from visions[type_image_path]==0.7.5->ydata-profiling) (0.2.0)\n",
      "Requirement already satisfied: MarkupSafe>=2.0 in c:\\users\\patco\\anaconda3\\lib\\site-packages (from jinja2<3.2,>=2.11.1->ydata-profiling) (2.1.1)\n",
      "Requirement already satisfied: contourpy>=1.0.1 in c:\\users\\patco\\anaconda3\\lib\\site-packages (from matplotlib<=3.7.3,>=3.2->ydata-profiling) (1.0.5)\n",
      "Requirement already satisfied: cycler>=0.10 in c:\\users\\patco\\anaconda3\\lib\\site-packages (from matplotlib<=3.7.3,>=3.2->ydata-profiling) (0.11.0)\n",
      "Requirement already satisfied: fonttools>=4.22.0 in c:\\users\\patco\\anaconda3\\lib\\site-packages (from matplotlib<=3.7.3,>=3.2->ydata-profiling) (4.25.0)\n",
      "Requirement already satisfied: kiwisolver>=1.0.1 in c:\\users\\patco\\anaconda3\\lib\\site-packages (from matplotlib<=3.7.3,>=3.2->ydata-profiling) (1.4.4)\n",
      "Requirement already satisfied: packaging>=20.0 in c:\\users\\patco\\anaconda3\\lib\\site-packages (from matplotlib<=3.7.3,>=3.2->ydata-profiling) (23.0)\n",
      "Requirement already satisfied: pyparsing>=2.3.1 in c:\\users\\patco\\anaconda3\\lib\\site-packages (from matplotlib<=3.7.3,>=3.2->ydata-profiling) (3.0.9)\n",
      "Requirement already satisfied: python-dateutil>=2.7 in c:\\users\\patco\\anaconda3\\lib\\site-packages (from matplotlib<=3.7.3,>=3.2->ydata-profiling) (2.8.2)\n",
      "Requirement already satisfied: llvmlite<0.41,>=0.40.0dev0 in c:\\users\\patco\\anaconda3\\lib\\site-packages (from numba<0.59.0,>=0.56.0->ydata-profiling) (0.40.0)\n",
      "Requirement already satisfied: pytz>=2020.1 in c:\\users\\patco\\anaconda3\\lib\\site-packages (from pandas!=1.4.0,<2.1,>1.1->ydata-profiling) (2022.7)\n",
      "Requirement already satisfied: joblib>=0.14.1 in c:\\users\\patco\\anaconda3\\lib\\site-packages (from phik<0.13,>=0.11.1->ydata-profiling) (1.1.1)\n",
      "Requirement already satisfied: annotated-types>=0.4.0 in c:\\users\\patco\\anaconda3\\lib\\site-packages (from pydantic>=2->ydata-profiling) (0.6.0)\n",
      "Requirement already satisfied: pydantic-core==2.10.1 in c:\\users\\patco\\anaconda3\\lib\\site-packages (from pydantic>=2->ydata-profiling) (2.10.1)\n",
      "Requirement already satisfied: typing-extensions>=4.6.1 in c:\\users\\patco\\anaconda3\\lib\\site-packages (from pydantic>=2->ydata-profiling) (4.7.1)\n",
      "Requirement already satisfied: charset-normalizer<4,>=2 in c:\\users\\patco\\anaconda3\\lib\\site-packages (from requests<3,>=2.24.0->ydata-profiling) (2.0.4)\n",
      "Requirement already satisfied: idna<4,>=2.5 in c:\\users\\patco\\anaconda3\\lib\\site-packages (from requests<3,>=2.24.0->ydata-profiling) (3.4)\n",
      "Requirement already satisfied: urllib3<3,>=1.21.1 in c:\\users\\patco\\anaconda3\\lib\\site-packages (from requests<3,>=2.24.0->ydata-profiling) (1.26.16)\n",
      "Requirement already satisfied: certifi>=2017.4.17 in c:\\users\\patco\\anaconda3\\lib\\site-packages (from requests<3,>=2.24.0->ydata-profiling) (2023.7.22)\n",
      "Requirement already satisfied: patsy>=0.5.2 in c:\\users\\patco\\anaconda3\\lib\\site-packages (from statsmodels<1,>=0.13.2->ydata-profiling) (0.5.3)\n",
      "Requirement already satisfied: colorama in c:\\users\\patco\\anaconda3\\lib\\site-packages (from tqdm<5,>=4.48.2->ydata-profiling) (0.4.6)\n",
      "Requirement already satisfied: six in c:\\users\\patco\\anaconda3\\lib\\site-packages (from patsy>=0.5.2->statsmodels<1,>=0.13.2->ydata-profiling) (1.16.0)\n"
     ]
    },
    {
     "data": {
      "application/vnd.jupyter.widget-view+json": {
       "model_id": "caa4faa59d40420d9c6d2520d84bb011",
       "version_major": 2,
       "version_minor": 0
      },
      "text/plain": [
       "Summarize dataset:   0%|          | 0/5 [00:00<?, ?it/s]"
      ]
     },
     "metadata": {},
     "output_type": "display_data"
    },
    {
     "data": {
      "application/vnd.jupyter.widget-view+json": {
       "model_id": "c4d7f953e4874ae7b396928193a653f2",
       "version_major": 2,
       "version_minor": 0
      },
      "text/plain": [
       "Generate report structure:   0%|          | 0/1 [00:00<?, ?it/s]"
      ]
     },
     "metadata": {},
     "output_type": "display_data"
    },
    {
     "data": {
      "application/vnd.jupyter.widget-view+json": {
       "model_id": "07313a3895e84560ad1eafee63cf783e",
       "version_major": 2,
       "version_minor": 0
      },
      "text/plain": [
       "Render HTML:   0%|          | 0/1 [00:00<?, ?it/s]"
      ]
     },
     "metadata": {},
     "output_type": "display_data"
    },
    {
     "data": {
      "application/vnd.jupyter.widget-view+json": {
       "model_id": "3cdf3d4f20974a2e8e0c31ab0f35d8ee",
       "version_major": 2,
       "version_minor": 0
      },
      "text/plain": [
       "Export report to file:   0%|          | 0/1 [00:00<?, ?it/s]"
      ]
     },
     "metadata": {},
     "output_type": "display_data"
    }
   ],
   "source": [
    "!pip install ydata-profiling\n",
    "import numpy as np\n",
    "import pandas as pd\n",
    "from ydata_profiling import ProfileReport\n",
    "\n",
    "# Create a DataFrame for profiling (you've already done this)\n",
    "df = pd.read_csv('red_wine.csv')\n",
    "\n",
    "# Generate the standard profiling report\n",
    "profile = ProfileReport(df, title=\"Profiling Report\")\n",
    "\n",
    "# To display the report in your Jupyter Notebook:\n",
    "#profile.to_notebook_iframe()\n",
    "\n",
    "# Save the report to an HTML file\n",
    "profile.to_file(output_file='red_wine_report.html')"
   ]
  },
  {
   "cell_type": "code",
   "execution_count": 7,
   "id": "b1241875",
   "metadata": {},
   "outputs": [
    {
     "name": "stdout",
     "output_type": "stream",
     "text": [
      "Baseline Model (Majority class):\n",
      "Accuracy: 0.5289\n",
      "AUC: 0.5000\n",
      "\n"
     ]
    }
   ],
   "source": [
    "import pandas as pd\n",
    "from sklearn.model_selection import cross_val_score\n",
    "from sklearn.dummy import DummyClassifier\n",
    "from sklearn.metrics import roc_auc_score\n",
    "\n",
    "# Load red_wine.csv into a dataframe\n",
    "red_wine_df = pd.read_csv('red_wine.csv')\n",
    "\n",
    "# Define features (citric acid, sulphates, alcohol) and target (type)\n",
    "X = red_wine_df[['citric acid', 'sulphates', 'alcohol']]\n",
    "y = red_wine_df['type']\n",
    "\n",
    "# Baseline model (Majority class)\n",
    "dummy_clf = DummyClassifier(strategy=\"most_frequent\")\n",
    "baseline_accuracy = cross_val_score(dummy_clf, X, y, cv=10, scoring='accuracy').mean()\n",
    "baseline_auc = 0.5  # AUC for a random classifier\n",
    "\n",
    "# Print baseline metrics\n",
    "print(f\"Baseline Model (Majority class):\\nAccuracy: {baseline_accuracy:.4f}\\nAUC: {baseline_auc:.4f}\\n\")\n",
    "\n",
    "# Now, you can proceed with more sophisticated models (e.g., logistic regression, random forest, etc.)\n",
    "# Fit and evaluate your chosen models using cross-validation\n"
   ]
  },
  {
   "cell_type": "code",
   "execution_count": null,
   "id": "0e585829",
   "metadata": {},
   "outputs": [],
   "source": [
    "\n"
   ]
  },
  {
   "cell_type": "code",
   "execution_count": 10,
   "id": "386d0ac2",
   "metadata": {},
   "outputs": [
    {
     "name": "stdout",
     "output_type": "stream",
     "text": [
      "Naive Bayes Model:\n",
      "Accuracy: 0.8216\n",
      "AUC: 0.8954\n"
     ]
    }
   ],
   "source": [
    "import pandas as pd\n",
    "from sklearn.model_selection import cross_val_score, StratifiedKFold\n",
    "from sklearn.naive_bayes import GaussianNB\n",
    "from sklearn.metrics import roc_auc_score\n",
    "\n",
    "# Load red_wine.csv into a dataframe\n",
    "red_wine_df = pd.read_csv('red_wine.csv')\n",
    "\n",
    "# Define features (citric acid, sulphates, alcohol) and target (type)\n",
    "X = red_wine_df[['citric acid', 'sulphates', 'alcohol']]\n",
    "y = red_wine_df['type']\n",
    "\n",
    "# Create a Gaussian Naive Bayes classifier\n",
    "naive_bayes = GaussianNB()\n",
    "\n",
    "# Perform 10-fold cross-validation\n",
    "accuracy_scores = cross_val_score(naive_bayes, X, y, cv=10, scoring='accuracy')\n",
    "auc_scores = [roc_auc_score(y.iloc[test], naive_bayes.fit(X.iloc[train], y.iloc[train]).predict_proba(X.iloc[test])[:, 1]) for train, test in StratifiedKFold(n_splits=10).split(X, y)]\n",
    "\n",
    "# Calculate mean scores\n",
    "mean_accuracy = accuracy_scores.mean()\n",
    "mean_auc = sum(auc_scores) / len(auc_scores)\n",
    "\n",
    "# Print performance metrics\n",
    "print(f\"Naive Bayes Model:\\nAccuracy: {mean_accuracy:.4f}\\nAUC: {mean_auc:.4f}\")\n"
   ]
  },
  {
   "cell_type": "code",
   "execution_count": 11,
   "id": "feab3f0f",
   "metadata": {},
   "outputs": [
    {
     "name": "stdout",
     "output_type": "stream",
     "text": [
      "Logistic Regression Model:\n",
      "Accuracy: 0.7848\n",
      "AUC: 0.8799\n"
     ]
    }
   ],
   "source": [
    "import pandas as pd\n",
    "from sklearn.model_selection import cross_val_score, StratifiedKFold\n",
    "from sklearn.linear_model import LogisticRegression\n",
    "from sklearn.metrics import roc_auc_score\n",
    "\n",
    "# Load red_wine.csv into a dataframe\n",
    "red_wine_df = pd.read_csv('red_wine.csv')\n",
    "\n",
    "# Define features (citric acid, sulphates, alcohol) and target (type)\n",
    "X = red_wine_df[['citric acid', 'sulphates', 'alcohol']]\n",
    "y = red_wine_df['type']\n",
    "\n",
    "# Create a Logistic Regression classifier\n",
    "logistic_reg = LogisticRegression(max_iter=1000)\n",
    "\n",
    "# Perform 10-fold cross-validation\n",
    "accuracy_scores = cross_val_score(logistic_reg, X, y, cv=10, scoring='accuracy')\n",
    "auc_scores = [roc_auc_score(y.iloc[test], logistic_reg.fit(X.iloc[train], y.iloc[train]).predict_proba(X.iloc[test])[:, 1]) for train, test in StratifiedKFold(n_splits=10).split(X, y)]\n",
    "\n",
    "# Calculate mean scores\n",
    "mean_accuracy = accuracy_scores.mean()\n",
    "mean_auc = sum(auc_scores) / len(auc_scores)\n",
    "\n",
    "# Print performance metrics\n",
    "print(f\"Logistic Regression Model:\\nAccuracy: {mean_accuracy:.4f}\\nAUC: {mean_auc:.4f}\")\n"
   ]
  },
  {
   "cell_type": "code",
   "execution_count": 12,
   "id": "41ef13ca",
   "metadata": {},
   "outputs": [
    {
     "name": "stdout",
     "output_type": "stream",
     "text": [
      "Decision Tree Model:\n",
      "Accuracy: 0.7533\n",
      "AUC: 0.7527\n"
     ]
    }
   ],
   "source": [
    "import pandas as pd\n",
    "from sklearn.model_selection import cross_val_score, StratifiedKFold\n",
    "from sklearn.tree import DecisionTreeClassifier\n",
    "from sklearn.metrics import roc_auc_score\n",
    "\n",
    "# Load red_wine.csv into a dataframe\n",
    "red_wine_df = pd.read_csv('red_wine.csv')\n",
    "\n",
    "# Define features (citric acid, sulphates, alcohol) and target (type)\n",
    "X = red_wine_df[['citric acid', 'sulphates', 'alcohol']]\n",
    "y = red_wine_df['type']\n",
    "\n",
    "# Create a Decision Tree classifier\n",
    "decision_tree = DecisionTreeClassifier()\n",
    "\n",
    "# Perform 10-fold cross-validation\n",
    "accuracy_scores = cross_val_score(decision_tree, X, y, cv=10, scoring='accuracy')\n",
    "auc_scores = [roc_auc_score(y.iloc[test], decision_tree.fit(X.iloc[train], y.iloc[train]).predict_proba(X.iloc[test])[:, 1]) for train, test in StratifiedKFold(n_splits=10).split(X, y)]\n",
    "\n",
    "# Calculate mean scores\n",
    "mean_accuracy = accuracy_scores.mean()\n",
    "mean_auc = sum(auc_scores) / len(auc_scores)\n",
    "\n",
    "# Print performance metrics\n",
    "print(f\"Decision Tree Model:\\nAccuracy: {mean_accuracy:.4f}\\nAUC: {mean_auc:.4f}\")\n"
   ]
  },
  {
   "cell_type": "code",
   "execution_count": 13,
   "id": "0bbea1d8",
   "metadata": {},
   "outputs": [
    {
     "name": "stdout",
     "output_type": "stream",
     "text": [
      "Linear SVM Model:\n",
      "Accuracy: 0.7919\n",
      "AUC: 0.8815\n"
     ]
    }
   ],
   "source": [
    "import pandas as pd\n",
    "from sklearn.model_selection import cross_val_score, StratifiedKFold\n",
    "from sklearn.svm import SVC\n",
    "from sklearn.metrics import roc_auc_score\n",
    "\n",
    "# Load red_wine.csv into a dataframe\n",
    "red_wine_df = pd.read_csv('red_wine.csv')\n",
    "\n",
    "# Define features (citric acid, sulphates, alcohol) and target (type)\n",
    "X = red_wine_df[['citric acid', 'sulphates', 'alcohol']]\n",
    "y = red_wine_df['type']\n",
    "\n",
    "# Create a Linear SVM classifier\n",
    "svm_linear = SVC(kernel='linear', probability=True)\n",
    "\n",
    "# Perform 10-fold cross-validation\n",
    "accuracy_scores = cross_val_score(svm_linear, X, y, cv=10, scoring='accuracy')\n",
    "auc_scores = [roc_auc_score(y.iloc[test], svm_linear.fit(X.iloc[train], y.iloc[train]).predict_proba(X.iloc[test])[:, 1]) for train, test in StratifiedKFold(n_splits=10).split(X, y)]\n",
    "\n",
    "# Calculate mean scores\n",
    "mean_accuracy = accuracy_scores.mean()\n",
    "mean_auc = sum(auc_scores) / len(auc_scores)\n",
    "\n",
    "# Print performance metrics\n",
    "print(f\"Linear SVM Model:\\nAccuracy: {mean_accuracy:.4f}\\nAUC: {mean_auc:.4f}\")\n"
   ]
  },
  {
   "cell_type": "code",
   "execution_count": 14,
   "id": "96bcf455",
   "metadata": {},
   "outputs": [
    {
     "name": "stdout",
     "output_type": "stream",
     "text": [
      "SVM with RBF Kernel Model:\n",
      "Accuracy: 0.5358\n",
      "AUC: 0.8690\n"
     ]
    }
   ],
   "source": [
    "import pandas as pd\n",
    "from sklearn.model_selection import cross_val_score, StratifiedKFold\n",
    "from sklearn.svm import SVC\n",
    "from sklearn.metrics import roc_auc_score\n",
    "\n",
    "# Load red_wine.csv into a dataframe\n",
    "red_wine_df = pd.read_csv('red_wine.csv')\n",
    "\n",
    "# Define features (citric acid, sulphates, alcohol) and target (type)\n",
    "X = red_wine_df[['citric acid', 'sulphates', 'alcohol']]\n",
    "y = red_wine_df['type']\n",
    "\n",
    "# Create an SVM classifier with RBF kernel\n",
    "svm_rbf = SVC(kernel='rbf', probability=True)\n",
    "\n",
    "# Perform 10-fold cross-validation\n",
    "accuracy_scores = cross_val_score(svm_rbf, X, y, cv=10, scoring='accuracy')\n",
    "auc_scores = [roc_auc_score(y.iloc[test], svm_rbf.fit(X.iloc[train], y.iloc[train]).predict_proba(X.iloc[test])[:, 1]) for train, test in StratifiedKFold(n_splits=10).split(X, y)]\n",
    "\n",
    "# Calculate mean scores\n",
    "mean_accuracy = accuracy_scores.mean()\n",
    "mean_auc = sum(auc_scores) / len(auc_scores)\n",
    "\n",
    "# Print performance metrics\n",
    "print(f\"SVM with RBF Kernel Model:\\nAccuracy: {mean_accuracy:.4f}\\nAUC: {mean_auc:.4f}\")\n"
   ]
  },
  {
   "cell_type": "code",
   "execution_count": 18,
   "id": "999e4667",
   "metadata": {},
   "outputs": [
    {
     "data": {
      "image/png": "[encoded data removed]",
      "text/plain": [
       "<Figure size 800x600 with 1 Axes>"
      ]
     },
     "metadata": {},
     "output_type": "display_data"
    },
    {
     "name": "stdout",
     "output_type": "stream",
     "text": [
      "Random Forest Model:\n",
      "AUC: 0.8741\n",
      "Accuracy: 0.8074\n"
     ]
    }
   ],
   "source": [
    "import pandas as pd\n",
    "from sklearn.model_selection import cross_val_score, StratifiedKFold\n",
    "from sklearn.ensemble import RandomForestClassifier\n",
    "from sklearn.metrics import roc_curve, auc, accuracy_score\n",
    "import matplotlib.pyplot as plt\n",
    "\n",
    "# Load red_wine.csv into a dataframe\n",
    "red_wine_df = pd.read_csv('red_wine.csv')\n",
    "\n",
    "# Convert 'type' to binary labels (1 for 'high' and 0 for 'low')\n",
    "red_wine_df['type'] = red_wine_df['type'].apply(lambda x: 1 if x == 'high' else 0)\n",
    "\n",
    "# Define features (citric acid, sulphates, alcohol) and target (type)\n",
    "X = red_wine_df[['citric acid', 'sulphates', 'alcohol']]\n",
    "y = red_wine_df['type']\n",
    "\n",
    "# Create a Random Forest classifier\n",
    "random_forest = RandomForestClassifier()\n",
    "\n",
    "# Perform 10-fold cross-validation\n",
    "y_prob = cross_val_predict(random_forest, X, y, cv=10, method='predict_proba')[:, 1]\n",
    "\n",
    "# Calculate ROC curve\n",
    "fpr, tpr, _ = roc_curve(y, y_prob)\n",
    "roc_auc = auc(fpr, tpr)\n",
    "\n",
    "# Plot ROC curve\n",
    "plt.figure(figsize=(8, 6))\n",
    "plt.plot(fpr, tpr, color='darkorange', lw=2, label='ROC curve (area = {:.2f})'.format(roc_auc))\n",
    "plt.plot([0, 1], [0, 1], color='navy', lw=2, linestyle='--')\n",
    "plt.xlabel('False Positive Rate')\n",
    "plt.ylabel('True Positive Rate')\n",
    "plt.title('Receiver Operating Characteristic (ROC)')\n",
    "plt.legend(loc='lower right')\n",
    "plt.show()\n",
    "\n",
    "# Calculate accuracy\n",
    "y_pred = (y_prob > 0.5).astype(int)\n",
    "accuracy = accuracy_score(y, y_pred)\n",
    "\n",
    "# Print AUC and accuracy\n",
    "print(f\"Random Forest Model:\\nAUC: {roc_auc:.4f}\\nAccuracy: {accuracy:.4f}\")\n",
    "\n"
   ]
  },
  {
   "cell_type": "code",
   "execution_count": 20,
   "id": "f91d74a9",
   "metadata": {},
   "outputs": [
    {
     "name": "stdout",
     "output_type": "stream",
     "text": [
      "Naive Bayes Model:\n",
      "Accuracy: 0.9321\n",
      "AUC: 0.9500\n"
     ]
    }
   ],
   "source": [
    "import pandas as pd\n",
    "from sklearn.model_selection import cross_val_score, StratifiedKFold\n",
    "from sklearn.naive_bayes import GaussianNB\n",
    "from sklearn.metrics import roc_auc_score\n",
    "\n",
    "# Load red_wine.csv into a dataframe\n",
    "red_wine_df = pd.read_csv('white_wine.csv')\n",
    "\n",
    "# Define features (citric acid, sulphates, alcohol) and target (type)\n",
    "X = red_wine_df[['citric acid', 'sulphates', 'alcohol']]\n",
    "y = red_wine_df['type']\n",
    "\n",
    "# Create a Gaussian Naive Bayes classifier\n",
    "naive_bayes = GaussianNB()\n",
    "\n",
    "# Perform 10-fold cross-validation\n",
    "accuracy_scores = cross_val_score(naive_bayes, X, y, cv=10, scoring='accuracy')\n",
    "auc_scores = [roc_auc_score(y.iloc[test], naive_bayes.fit(X.iloc[train], y.iloc[train]).predict_proba(X.iloc[test])[:, 1]) for train, test in StratifiedKFold(n_splits=10).split(X, y)]\n",
    "\n",
    "# Calculate mean scores\n",
    "mean_accuracy = accuracy_scores.mean()\n",
    "mean_auc = sum(auc_scores) / len(auc_scores)\n",
    "\n",
    "# Print performance metrics\n",
    "print(f\"Naive Bayes Model:\\nAccuracy: {mean_accuracy:.4f}\\nAUC: {mean_auc:.4f}\")\n"
   ]
  },
  {
   "cell_type": "code",
   "execution_count": null,
   "id": "b6854ac0",
   "metadata": {},
   "outputs": [],
   "source": []
  }
 ],
 "metadata": {
  "kernelspec": {
   "display_name": "Python 3 (ipykernel)",
   "language": "python",
   "name": "python3"
  },
  "language_info": {
   "codemirror_mode": {
    "name": "ipython",
    "version": 3
   },
   "file_extension": ".py",
   "mimetype": "text/x-python",
   "name": "python",
   "nbconvert_exporter": "python",
   "pygments_lexer": "ipython3",
   "version": "3.11.4"
  }
 },
 "nbformat": 4,
 "nbformat_minor": 5
}
